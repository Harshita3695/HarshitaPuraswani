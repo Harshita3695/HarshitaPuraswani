{
 "cells": [
  {
   "cell_type": "markdown",
   "id": "10d7a830",
   "metadata": {},
   "source": [
    "# <Center> IDS 575_Machine Learning and Statistical Analysis</Center>"
   ]
  },
  {
   "cell_type": "markdown",
   "id": "c72683d6",
   "metadata": {},
   "source": [
    "## <CENTER>Final Project - Divvy Bike Ride  Prediction<CENTER>"
   ]
  },
  {
   "cell_type": "markdown",
   "id": "08fb2764",
   "metadata": {},
   "source": [
    "## Presented by - <br>\n",
    "\n",
    "**Harshita Puraswani** - 653670536 <br>\n"
   ]
  },
  {
   "cell_type": "markdown",
   "id": "c64202b8",
   "metadata": {},
   "source": [
    "# Introduction"
   ]
  },
  {
   "cell_type": "markdown",
   "id": "52f1d026",
   "metadata": {},
   "source": [
    "### Divvy bicycles is a bike share system available for rent across Chicago which offers ease of access to a wide range of customers. Our project focuses on predicting Divvy Bike rides in the city of Chicago during 2022. We acquired the data from the Divvy bicycles’ official website and merged the daily weather data from NOAA (National Oceanic and Atmospheric Administration) website.The objective of the project is to build a predictive model using historical data and analyze it with the impact of weather conditions such as temperature, snow etc. Using various models, we can leverage data for predicting duration of future divvy rides."
   ]
  },
  {
   "cell_type": "markdown",
   "id": "482adbf1",
   "metadata": {},
   "source": [
    "### There are 4 component of our project -\n",
    "\n",
    "1. Data Preprocessing\n",
    "2. Exploratory Data Analysis\n",
    "3. Model Implementation\n",
    "4. Conclusion"
   ]
  },
  {
   "cell_type": "markdown",
   "id": "05f8f82d",
   "metadata": {},
   "source": [
    "# Data Preprocessing"
   ]
  },
  {
   "cell_type": "code",
   "execution_count": 1,
   "id": "5f411525",
   "metadata": {},
   "outputs": [],
   "source": [
    "#Importing Weather Data\n",
    "\n",
    "import pandas as pd\n",
    "import numpy as np\n",
    "\n",
    "weather1 = pd.read_excel(\"C:/Users/hpuras2/OneDrive - University of Illinois at Chicago/machine learning/Final Project/2021_Weather.xlsx\")"
   ]
  },
  {
   "cell_type": "code",
   "execution_count": 2,
   "id": "943ea624",
   "metadata": {},
   "outputs": [
    {
     "data": {
      "text/html": [
       "<div>\n",
       "<style scoped>\n",
       "    .dataframe tbody tr th:only-of-type {\n",
       "        vertical-align: middle;\n",
       "    }\n",
       "\n",
       "    .dataframe tbody tr th {\n",
       "        vertical-align: top;\n",
       "    }\n",
       "\n",
       "    .dataframe thead th {\n",
       "        text-align: right;\n",
       "    }\n",
       "</style>\n",
       "<table border=\"1\" class=\"dataframe\">\n",
       "  <thead>\n",
       "    <tr style=\"text-align: right;\">\n",
       "      <th></th>\n",
       "      <th>Date</th>\n",
       "      <th>Temperature (° F)</th>\n",
       "      <th>Dew Point (° F)</th>\n",
       "      <th>Humidity (%)</th>\n",
       "      <th>Wind Speed (mph)</th>\n",
       "      <th>Pressure (Hg)</th>\n",
       "      <th>Precipitation (in)</th>\n",
       "    </tr>\n",
       "  </thead>\n",
       "  <tbody>\n",
       "    <tr>\n",
       "      <th>0</th>\n",
       "      <td>2021-01-01</td>\n",
       "      <td>31.9</td>\n",
       "      <td>27.2</td>\n",
       "      <td>83.0</td>\n",
       "      <td>13.1</td>\n",
       "      <td>29.3</td>\n",
       "      <td>0.00</td>\n",
       "    </tr>\n",
       "    <tr>\n",
       "      <th>1</th>\n",
       "      <td>2021-01-02</td>\n",
       "      <td>33.4</td>\n",
       "      <td>29.3</td>\n",
       "      <td>85.0</td>\n",
       "      <td>7.5</td>\n",
       "      <td>29.4</td>\n",
       "      <td>0.24</td>\n",
       "    </tr>\n",
       "    <tr>\n",
       "      <th>2</th>\n",
       "      <td>2021-01-03</td>\n",
       "      <td>31.9</td>\n",
       "      <td>28.1</td>\n",
       "      <td>85.7</td>\n",
       "      <td>6.0</td>\n",
       "      <td>29.3</td>\n",
       "      <td>0.05</td>\n",
       "    </tr>\n",
       "    <tr>\n",
       "      <th>3</th>\n",
       "      <td>2021-01-04</td>\n",
       "      <td>27.4</td>\n",
       "      <td>24.6</td>\n",
       "      <td>88.9</td>\n",
       "      <td>8.5</td>\n",
       "      <td>29.3</td>\n",
       "      <td>0.00</td>\n",
       "    </tr>\n",
       "    <tr>\n",
       "      <th>4</th>\n",
       "      <td>2021-01-05</td>\n",
       "      <td>32.7</td>\n",
       "      <td>27.3</td>\n",
       "      <td>80.8</td>\n",
       "      <td>5.8</td>\n",
       "      <td>29.4</td>\n",
       "      <td>0.00</td>\n",
       "    </tr>\n",
       "  </tbody>\n",
       "</table>\n",
       "</div>"
      ],
      "text/plain": [
       "        Date Temperature (° F) Dew Point (° F) Humidity (%) Wind Speed (mph)  \\\n",
       "0 2021-01-01             31.9            27.2         83.0             13.1    \n",
       "1 2021-01-02             33.4            29.3         85.0              7.5    \n",
       "2 2021-01-03             31.9            28.1         85.7              6.0    \n",
       "3 2021-01-04             27.4            24.6         88.9              8.5    \n",
       "4 2021-01-05             32.7            27.3         80.8              5.8    \n",
       "\n",
       "  Pressure (Hg) Precipitation (in)  \n",
       "0         29.3               0.00   \n",
       "1         29.4               0.24   \n",
       "2         29.3               0.05   \n",
       "3         29.3               0.00   \n",
       "4         29.4               0.00   "
      ]
     },
     "execution_count": 2,
     "metadata": {},
     "output_type": "execute_result"
    }
   ],
   "source": [
    "weather1.head()"
   ]
  },
  {
   "cell_type": "code",
   "execution_count": 3,
   "id": "7b8e26f9",
   "metadata": {},
   "outputs": [],
   "source": [
    "df = pd.DataFrame(weather1)"
   ]
  },
  {
   "cell_type": "code",
   "execution_count": 4,
   "id": "9d045bb0",
   "metadata": {},
   "outputs": [
    {
     "name": "stdout",
     "output_type": "stream",
     "text": [
      "Date                  datetime64[ns]\n",
      "Temperature (° F)             object\n",
      "Dew Point (° F)               object\n",
      "Humidity (%)                  object\n",
      "Wind Speed (mph)              object\n",
      "Pressure (Hg)                 object\n",
      "Precipitation (in)            object\n",
      "dtype: object\n"
     ]
    }
   ],
   "source": [
    "#V Weather variables type\n",
    "print(df.dtypes)"
   ]
  },
  {
   "cell_type": "code",
   "execution_count": 5,
   "id": "5a24fbc4",
   "metadata": {},
   "outputs": [],
   "source": [
    "#converting float values to integer \n",
    "\n",
    "df['Pressure (Hg)'] = df['Pressure (Hg)'].fillna(0).astype(float).astype(int)\n",
    "df['Wind Speed (mph)'] = df['Wind Speed (mph)'].fillna(0).astype(float).astype(int)\n",
    "df['Humidity (%)'] = df['Humidity (%)'].fillna(0).astype(float).astype(int)\n",
    "df['Dew Point (° F)'] = df['Dew Point (° F)'].fillna(0).astype(float).astype(int)\n",
    "df['Temperature (° F)'] = df['Temperature (° F)'].fillna(0).astype(float).astype(int)\n",
    "df['Precipitation (in)'] = df['Precipitation (in)'].fillna(0).astype(float).astype(int)\n",
    "\n"
   ]
  },
  {
   "cell_type": "code",
   "execution_count": 6,
   "id": "63906ee7",
   "metadata": {},
   "outputs": [
    {
     "data": {
      "text/html": [
       "<div>\n",
       "<style scoped>\n",
       "    .dataframe tbody tr th:only-of-type {\n",
       "        vertical-align: middle;\n",
       "    }\n",
       "\n",
       "    .dataframe tbody tr th {\n",
       "        vertical-align: top;\n",
       "    }\n",
       "\n",
       "    .dataframe thead th {\n",
       "        text-align: right;\n",
       "    }\n",
       "</style>\n",
       "<table border=\"1\" class=\"dataframe\">\n",
       "  <thead>\n",
       "    <tr style=\"text-align: right;\">\n",
       "      <th></th>\n",
       "      <th>Date</th>\n",
       "      <th>Temperature (° F)</th>\n",
       "      <th>Dew Point (° F)</th>\n",
       "      <th>Humidity (%)</th>\n",
       "      <th>Wind Speed (mph)</th>\n",
       "      <th>Pressure (Hg)</th>\n",
       "      <th>Precipitation (in)</th>\n",
       "    </tr>\n",
       "  </thead>\n",
       "  <tbody>\n",
       "    <tr>\n",
       "      <th>0</th>\n",
       "      <td>2021-01-01</td>\n",
       "      <td>31</td>\n",
       "      <td>27</td>\n",
       "      <td>83</td>\n",
       "      <td>13</td>\n",
       "      <td>29</td>\n",
       "      <td>0</td>\n",
       "    </tr>\n",
       "    <tr>\n",
       "      <th>1</th>\n",
       "      <td>2021-01-02</td>\n",
       "      <td>33</td>\n",
       "      <td>29</td>\n",
       "      <td>85</td>\n",
       "      <td>7</td>\n",
       "      <td>29</td>\n",
       "      <td>0</td>\n",
       "    </tr>\n",
       "    <tr>\n",
       "      <th>2</th>\n",
       "      <td>2021-01-03</td>\n",
       "      <td>31</td>\n",
       "      <td>28</td>\n",
       "      <td>85</td>\n",
       "      <td>6</td>\n",
       "      <td>29</td>\n",
       "      <td>0</td>\n",
       "    </tr>\n",
       "    <tr>\n",
       "      <th>3</th>\n",
       "      <td>2021-01-04</td>\n",
       "      <td>27</td>\n",
       "      <td>24</td>\n",
       "      <td>88</td>\n",
       "      <td>8</td>\n",
       "      <td>29</td>\n",
       "      <td>0</td>\n",
       "    </tr>\n",
       "    <tr>\n",
       "      <th>4</th>\n",
       "      <td>2021-01-05</td>\n",
       "      <td>32</td>\n",
       "      <td>27</td>\n",
       "      <td>80</td>\n",
       "      <td>5</td>\n",
       "      <td>29</td>\n",
       "      <td>0</td>\n",
       "    </tr>\n",
       "  </tbody>\n",
       "</table>\n",
       "</div>"
      ],
      "text/plain": [
       "        Date  Temperature (° F)  Dew Point (° F)  Humidity (%)  \\\n",
       "0 2021-01-01                 31               27            83   \n",
       "1 2021-01-02                 33               29            85   \n",
       "2 2021-01-03                 31               28            85   \n",
       "3 2021-01-04                 27               24            88   \n",
       "4 2021-01-05                 32               27            80   \n",
       "\n",
       "   Wind Speed (mph)  Pressure (Hg)  Precipitation (in)  \n",
       "0                13             29                   0  \n",
       "1                 7             29                   0  \n",
       "2                 6             29                   0  \n",
       "3                 8             29                   0  \n",
       "4                 5             29                   0  "
      ]
     },
     "execution_count": 6,
     "metadata": {},
     "output_type": "execute_result"
    }
   ],
   "source": [
    "df.head()"
   ]
  },
  {
   "cell_type": "code",
   "execution_count": 7,
   "id": "e2164f89",
   "metadata": {},
   "outputs": [],
   "source": [
    "df['Date']=df['Date'].dt.strftime('%#m/%#d/%Y')"
   ]
  },
  {
   "cell_type": "code",
   "execution_count": 8,
   "id": "fadbefaa",
   "metadata": {},
   "outputs": [
    {
     "data": {
      "text/plain": [
       "Date                  object\n",
       "Temperature (° F)      int32\n",
       "Dew Point (° F)        int32\n",
       "Humidity (%)           int32\n",
       "Wind Speed (mph)       int32\n",
       "Pressure (Hg)          int32\n",
       "Precipitation (in)     int32\n",
       "dtype: object"
      ]
     },
     "execution_count": 8,
     "metadata": {},
     "output_type": "execute_result"
    }
   ],
   "source": [
    "df.dtypes"
   ]
  },
  {
   "cell_type": "code",
   "execution_count": 9,
   "id": "36ce076a",
   "metadata": {},
   "outputs": [
    {
     "name": "stderr",
     "output_type": "stream",
     "text": [
      "C:\\Users\\hpuras2\\Anaconda3\\lib\\site-packages\\IPython\\core\\interactiveshell.py:3444: DtypeWarning: Columns (13) have mixed types.Specify dtype option on import or set low_memory=False.\n",
      "  exec(code_obj, self.user_global_ns, self.user_ns)\n"
     ]
    }
   ],
   "source": [
    "#Importing Divvy Bike ride data\n",
    "\n",
    "from datetime import datetime\n",
    "\n",
    "dft1 = pd.read_csv(\"C:/Users/hpuras2/OneDrive - University of Illinois at Chicago/machine learning/Final Project/Data Set Divvy Bike 2021/Data Set Divvy Bike 2021/202101-divvy-tripdata.csv\")\n",
    "dft2 = pd.read_csv(\"C:/Users/hpuras2/OneDrive - University of Illinois at Chicago/machine learning/Final Project/Data Set Divvy Bike 2021/Data Set Divvy Bike 2021/202102-divvy-tripdata.csv\")\n",
    "dft3 = pd.read_csv(\"C:/Users/hpuras2/OneDrive - University of Illinois at Chicago/machine learning/Final Project/Data Set Divvy Bike 2021/Data Set Divvy Bike 2021/202103-divvy-tripdata.csv\")\n",
    "dft4 = pd.read_csv(\"C:/Users/hpuras2/OneDrive - University of Illinois at Chicago/machine learning/Final Project/Data Set Divvy Bike 2021/Data Set Divvy Bike 2021/202104-divvy-tripdata.csv\")\n",
    "dft5 = pd.read_csv(\"C:/Users/hpuras2/OneDrive - University of Illinois at Chicago/machine learning/Final Project/Data Set Divvy Bike 2021/Data Set Divvy Bike 2021/202105-divvy-tripdata.csv\")\n",
    "dft6 = pd.read_csv(\"C:/Users/hpuras2/OneDrive - University of Illinois at Chicago/machine learning/Final Project/Data Set Divvy Bike 2021/Data Set Divvy Bike 2021/202106-divvy-tripdata.csv\")\n",
    "dft7 = pd.read_csv(\"C:/Users/hpuras2/OneDrive - University of Illinois at Chicago/machine learning/Final Project/Data Set Divvy Bike 2021/Data Set Divvy Bike 2021/202107-divvy-tripdata.csv\")\n",
    "dft8 = pd.read_csv(\"C:/Users/hpuras2/OneDrive - University of Illinois at Chicago/machine learning/Final Project/Data Set Divvy Bike 2021/Data Set Divvy Bike 2021/202108-divvy-tripdata.csv\")\n",
    "dft9 = pd.read_csv(\"C:/Users/hpuras2/OneDrive - University of Illinois at Chicago/machine learning/Final Project/Data Set Divvy Bike 2021/Data Set Divvy Bike 2021/202109-divvy-tripdata.csv\")\n",
    "dft10 = pd.read_csv(\"C:/Users/hpuras2/OneDrive - University of Illinois at Chicago/machine learning/Final Project/Data Set Divvy Bike 2021/Data Set Divvy Bike 2021/202110-divvy-tripdata.csv\")\n",
    "dft11 = pd.read_csv(\"C:/Users/hpuras2/OneDrive - University of Illinois at Chicago/machine learning/Final Project/Data Set Divvy Bike 2021/Data Set Divvy Bike 2021/202111-divvy-tripdata.csv\")\n",
    "dft12 = pd.read_csv(\"C:/Users/hpuras2/OneDrive - University of Illinois at Chicago/machine learning/Final Project/Data Set Divvy Bike 2021/Data Set Divvy Bike 2021/202112-divvy-tripdata.csv\")\n"
   ]
  },
  {
   "cell_type": "code",
   "execution_count": 10,
   "id": "5198de3f",
   "metadata": {},
   "outputs": [
    {
     "data": {
      "text/html": [
       "<div>\n",
       "<style scoped>\n",
       "    .dataframe tbody tr th:only-of-type {\n",
       "        vertical-align: middle;\n",
       "    }\n",
       "\n",
       "    .dataframe tbody tr th {\n",
       "        vertical-align: top;\n",
       "    }\n",
       "\n",
       "    .dataframe thead th {\n",
       "        text-align: right;\n",
       "    }\n",
       "</style>\n",
       "<table border=\"1\" class=\"dataframe\">\n",
       "  <thead>\n",
       "    <tr style=\"text-align: right;\">\n",
       "      <th></th>\n",
       "      <th>ride_id</th>\n",
       "      <th>rideable_type</th>\n",
       "      <th>started_at_date</th>\n",
       "      <th>ended_at_date</th>\n",
       "      <th>start_station_name</th>\n",
       "      <th>start_station_id</th>\n",
       "      <th>end_station_name</th>\n",
       "      <th>end_station_id</th>\n",
       "      <th>start_lat</th>\n",
       "      <th>start_lng</th>\n",
       "      <th>end_lat</th>\n",
       "      <th>end_lng</th>\n",
       "      <th>member_casual</th>\n",
       "      <th>Distance</th>\n",
       "      <th>Distance</th>\n",
       "    </tr>\n",
       "  </thead>\n",
       "  <tbody>\n",
       "    <tr>\n",
       "      <th>0</th>\n",
       "      <td>E19E6F1B8D4C42ED</td>\n",
       "      <td>electric_bike</td>\n",
       "      <td>23/01/21</td>\n",
       "      <td>23/01/21</td>\n",
       "      <td>California Ave &amp; Cortez St</td>\n",
       "      <td>17660</td>\n",
       "      <td>NaN</td>\n",
       "      <td>NaN</td>\n",
       "      <td>41.900341</td>\n",
       "      <td>-87.696743</td>\n",
       "      <td>41.89</td>\n",
       "      <td>-87.72</td>\n",
       "      <td>member</td>\n",
       "      <td>1.393873736</td>\n",
       "      <td>NaN</td>\n",
       "    </tr>\n",
       "    <tr>\n",
       "      <th>1</th>\n",
       "      <td>DC88F20C2C55F27F</td>\n",
       "      <td>electric_bike</td>\n",
       "      <td>27/01/21</td>\n",
       "      <td>27/01/21</td>\n",
       "      <td>California Ave &amp; Cortez St</td>\n",
       "      <td>17660</td>\n",
       "      <td>NaN</td>\n",
       "      <td>NaN</td>\n",
       "      <td>41.900333</td>\n",
       "      <td>-87.696707</td>\n",
       "      <td>41.90</td>\n",
       "      <td>-87.69</td>\n",
       "      <td>member</td>\n",
       "      <td>0.345836307</td>\n",
       "      <td>NaN</td>\n",
       "    </tr>\n",
       "    <tr>\n",
       "      <th>2</th>\n",
       "      <td>EC45C94683FE3F27</td>\n",
       "      <td>electric_bike</td>\n",
       "      <td>21/01/21</td>\n",
       "      <td>21/01/21</td>\n",
       "      <td>California Ave &amp; Cortez St</td>\n",
       "      <td>17660</td>\n",
       "      <td>NaN</td>\n",
       "      <td>NaN</td>\n",
       "      <td>41.900313</td>\n",
       "      <td>-87.696643</td>\n",
       "      <td>41.90</td>\n",
       "      <td>-87.70</td>\n",
       "      <td>member</td>\n",
       "      <td>0.174079064</td>\n",
       "      <td>NaN</td>\n",
       "    </tr>\n",
       "    <tr>\n",
       "      <th>3</th>\n",
       "      <td>4FA453A75AE377DB</td>\n",
       "      <td>electric_bike</td>\n",
       "      <td>7/1/2021</td>\n",
       "      <td>7/1/2021</td>\n",
       "      <td>California Ave &amp; Cortez St</td>\n",
       "      <td>17660</td>\n",
       "      <td>NaN</td>\n",
       "      <td>NaN</td>\n",
       "      <td>41.900399</td>\n",
       "      <td>-87.696662</td>\n",
       "      <td>41.92</td>\n",
       "      <td>-87.69</td>\n",
       "      <td>member</td>\n",
       "      <td>1.397582418</td>\n",
       "      <td>NaN</td>\n",
       "    </tr>\n",
       "    <tr>\n",
       "      <th>4</th>\n",
       "      <td>BE5E8EB4E7263A0B</td>\n",
       "      <td>electric_bike</td>\n",
       "      <td>23/01/21</td>\n",
       "      <td>23/01/21</td>\n",
       "      <td>California Ave &amp; Cortez St</td>\n",
       "      <td>17660</td>\n",
       "      <td>NaN</td>\n",
       "      <td>NaN</td>\n",
       "      <td>41.900326</td>\n",
       "      <td>-87.696697</td>\n",
       "      <td>41.90</td>\n",
       "      <td>-87.70</td>\n",
       "      <td>casual</td>\n",
       "      <td>0.171418804</td>\n",
       "      <td>NaN</td>\n",
       "    </tr>\n",
       "  </tbody>\n",
       "</table>\n",
       "</div>"
      ],
      "text/plain": [
       "            ride_id  rideable_type started_at_date ended_at_date  \\\n",
       "0  E19E6F1B8D4C42ED  electric_bike        23/01/21      23/01/21   \n",
       "1  DC88F20C2C55F27F  electric_bike        27/01/21      27/01/21   \n",
       "2  EC45C94683FE3F27  electric_bike        21/01/21      21/01/21   \n",
       "3  4FA453A75AE377DB  electric_bike        7/1/2021      7/1/2021   \n",
       "4  BE5E8EB4E7263A0B  electric_bike        23/01/21      23/01/21   \n",
       "\n",
       "           start_station_name start_station_id end_station_name  \\\n",
       "0  California Ave & Cortez St            17660              NaN   \n",
       "1  California Ave & Cortez St            17660              NaN   \n",
       "2  California Ave & Cortez St            17660              NaN   \n",
       "3  California Ave & Cortez St            17660              NaN   \n",
       "4  California Ave & Cortez St            17660              NaN   \n",
       "\n",
       "  end_station_id  start_lat  start_lng  end_lat  end_lng member_casual  \\\n",
       "0            NaN  41.900341 -87.696743    41.89   -87.72        member   \n",
       "1            NaN  41.900333 -87.696707    41.90   -87.69        member   \n",
       "2            NaN  41.900313 -87.696643    41.90   -87.70        member   \n",
       "3            NaN  41.900399 -87.696662    41.92   -87.69        member   \n",
       "4            NaN  41.900326 -87.696697    41.90   -87.70        casual   \n",
       "\n",
       "     Distance  Distance  \n",
       "0  1.393873736      NaN  \n",
       "1  0.345836307      NaN  \n",
       "2  0.174079064      NaN  \n",
       "3  1.397582418      NaN  \n",
       "4  0.171418804      NaN  "
      ]
     },
     "execution_count": 10,
     "metadata": {},
     "output_type": "execute_result"
    }
   ],
   "source": [
    "#Concatening all the excels into one dataframe\n",
    "\n",
    "frames1 = [dft1, dft2, dft3, dft4, dft5, dft6, dft7, dft8, dft9, dft10, dft11, dft12]\n",
    "dft = pd.concat(frames1)\n",
    "dft.head()"
   ]
  },
  {
   "cell_type": "code",
   "execution_count": 11,
   "id": "d2ab1b39",
   "metadata": {},
   "outputs": [
    {
     "data": {
      "text/html": [
       "<div>\n",
       "<style scoped>\n",
       "    .dataframe tbody tr th:only-of-type {\n",
       "        vertical-align: middle;\n",
       "    }\n",
       "\n",
       "    .dataframe tbody tr th {\n",
       "        vertical-align: top;\n",
       "    }\n",
       "\n",
       "    .dataframe thead th {\n",
       "        text-align: right;\n",
       "    }\n",
       "</style>\n",
       "<table border=\"1\" class=\"dataframe\">\n",
       "  <thead>\n",
       "    <tr style=\"text-align: right;\">\n",
       "      <th></th>\n",
       "      <th>ride_id</th>\n",
       "      <th>rideable_type</th>\n",
       "      <th>started_at_date</th>\n",
       "      <th>ended_at_date</th>\n",
       "      <th>start_station_name</th>\n",
       "      <th>start_station_id</th>\n",
       "      <th>end_station_name</th>\n",
       "      <th>end_station_id</th>\n",
       "      <th>start_lat</th>\n",
       "      <th>start_lng</th>\n",
       "      <th>end_lat</th>\n",
       "      <th>end_lng</th>\n",
       "      <th>member_casual</th>\n",
       "      <th>Distance</th>\n",
       "    </tr>\n",
       "  </thead>\n",
       "  <tbody>\n",
       "    <tr>\n",
       "      <th>0</th>\n",
       "      <td>E19E6F1B8D4C42ED</td>\n",
       "      <td>electric_bike</td>\n",
       "      <td>23/01/21</td>\n",
       "      <td>23/01/21</td>\n",
       "      <td>California Ave &amp; Cortez St</td>\n",
       "      <td>17660</td>\n",
       "      <td>NaN</td>\n",
       "      <td>NaN</td>\n",
       "      <td>41.900341</td>\n",
       "      <td>-87.696743</td>\n",
       "      <td>41.89</td>\n",
       "      <td>-87.72</td>\n",
       "      <td>member</td>\n",
       "      <td>1.393873736</td>\n",
       "    </tr>\n",
       "    <tr>\n",
       "      <th>1</th>\n",
       "      <td>DC88F20C2C55F27F</td>\n",
       "      <td>electric_bike</td>\n",
       "      <td>27/01/21</td>\n",
       "      <td>27/01/21</td>\n",
       "      <td>California Ave &amp; Cortez St</td>\n",
       "      <td>17660</td>\n",
       "      <td>NaN</td>\n",
       "      <td>NaN</td>\n",
       "      <td>41.900333</td>\n",
       "      <td>-87.696707</td>\n",
       "      <td>41.90</td>\n",
       "      <td>-87.69</td>\n",
       "      <td>member</td>\n",
       "      <td>0.345836307</td>\n",
       "    </tr>\n",
       "    <tr>\n",
       "      <th>2</th>\n",
       "      <td>EC45C94683FE3F27</td>\n",
       "      <td>electric_bike</td>\n",
       "      <td>21/01/21</td>\n",
       "      <td>21/01/21</td>\n",
       "      <td>California Ave &amp; Cortez St</td>\n",
       "      <td>17660</td>\n",
       "      <td>NaN</td>\n",
       "      <td>NaN</td>\n",
       "      <td>41.900313</td>\n",
       "      <td>-87.696643</td>\n",
       "      <td>41.90</td>\n",
       "      <td>-87.70</td>\n",
       "      <td>member</td>\n",
       "      <td>0.174079064</td>\n",
       "    </tr>\n",
       "    <tr>\n",
       "      <th>3</th>\n",
       "      <td>4FA453A75AE377DB</td>\n",
       "      <td>electric_bike</td>\n",
       "      <td>7/1/2021</td>\n",
       "      <td>7/1/2021</td>\n",
       "      <td>California Ave &amp; Cortez St</td>\n",
       "      <td>17660</td>\n",
       "      <td>NaN</td>\n",
       "      <td>NaN</td>\n",
       "      <td>41.900399</td>\n",
       "      <td>-87.696662</td>\n",
       "      <td>41.92</td>\n",
       "      <td>-87.69</td>\n",
       "      <td>member</td>\n",
       "      <td>1.397582418</td>\n",
       "    </tr>\n",
       "    <tr>\n",
       "      <th>4</th>\n",
       "      <td>BE5E8EB4E7263A0B</td>\n",
       "      <td>electric_bike</td>\n",
       "      <td>23/01/21</td>\n",
       "      <td>23/01/21</td>\n",
       "      <td>California Ave &amp; Cortez St</td>\n",
       "      <td>17660</td>\n",
       "      <td>NaN</td>\n",
       "      <td>NaN</td>\n",
       "      <td>41.900326</td>\n",
       "      <td>-87.696697</td>\n",
       "      <td>41.90</td>\n",
       "      <td>-87.70</td>\n",
       "      <td>casual</td>\n",
       "      <td>0.171418804</td>\n",
       "    </tr>\n",
       "  </tbody>\n",
       "</table>\n",
       "</div>"
      ],
      "text/plain": [
       "            ride_id  rideable_type started_at_date ended_at_date  \\\n",
       "0  E19E6F1B8D4C42ED  electric_bike        23/01/21      23/01/21   \n",
       "1  DC88F20C2C55F27F  electric_bike        27/01/21      27/01/21   \n",
       "2  EC45C94683FE3F27  electric_bike        21/01/21      21/01/21   \n",
       "3  4FA453A75AE377DB  electric_bike        7/1/2021      7/1/2021   \n",
       "4  BE5E8EB4E7263A0B  electric_bike        23/01/21      23/01/21   \n",
       "\n",
       "           start_station_name start_station_id end_station_name  \\\n",
       "0  California Ave & Cortez St            17660              NaN   \n",
       "1  California Ave & Cortez St            17660              NaN   \n",
       "2  California Ave & Cortez St            17660              NaN   \n",
       "3  California Ave & Cortez St            17660              NaN   \n",
       "4  California Ave & Cortez St            17660              NaN   \n",
       "\n",
       "  end_station_id  start_lat  start_lng  end_lat  end_lng member_casual  \\\n",
       "0            NaN  41.900341 -87.696743    41.89   -87.72        member   \n",
       "1            NaN  41.900333 -87.696707    41.90   -87.69        member   \n",
       "2            NaN  41.900313 -87.696643    41.90   -87.70        member   \n",
       "3            NaN  41.900399 -87.696662    41.92   -87.69        member   \n",
       "4            NaN  41.900326 -87.696697    41.90   -87.70        casual   \n",
       "\n",
       "     Distance   \n",
       "0  1.393873736  \n",
       "1  0.345836307  \n",
       "2  0.174079064  \n",
       "3  1.397582418  \n",
       "4  0.171418804  "
      ]
     },
     "execution_count": 11,
     "metadata": {},
     "output_type": "execute_result"
    }
   ],
   "source": [
    "dft = dft.iloc[: , :-1]\n",
    "dft.head()"
   ]
  },
  {
   "cell_type": "code",
   "execution_count": 12,
   "id": "7e99af23",
   "metadata": {},
   "outputs": [
    {
     "data": {
      "text/plain": [
       "ride_id                object\n",
       "rideable_type          object\n",
       "started_at_date        object\n",
       "ended_at_date          object\n",
       "start_station_name     object\n",
       "start_station_id       object\n",
       "end_station_name       object\n",
       "end_station_id         object\n",
       "start_lat             float64\n",
       "start_lng             float64\n",
       "end_lat               float64\n",
       "end_lng               float64\n",
       "member_casual          object\n",
       "Distance               object\n",
       "dtype: object"
      ]
     },
     "execution_count": 12,
     "metadata": {},
     "output_type": "execute_result"
    }
   ],
   "source": [
    "dft.dtypes"
   ]
  },
  {
   "cell_type": "code",
   "execution_count": 13,
   "id": "a85749ea",
   "metadata": {},
   "outputs": [
    {
     "data": {
      "text/html": [
       "<div>\n",
       "<style scoped>\n",
       "    .dataframe tbody tr th:only-of-type {\n",
       "        vertical-align: middle;\n",
       "    }\n",
       "\n",
       "    .dataframe tbody tr th {\n",
       "        vertical-align: top;\n",
       "    }\n",
       "\n",
       "    .dataframe thead th {\n",
       "        text-align: right;\n",
       "    }\n",
       "</style>\n",
       "<table border=\"1\" class=\"dataframe\">\n",
       "  <thead>\n",
       "    <tr style=\"text-align: right;\">\n",
       "      <th></th>\n",
       "      <th>ride_id</th>\n",
       "      <th>rideable_type</th>\n",
       "      <th>Date</th>\n",
       "      <th>ended_at_date</th>\n",
       "      <th>start_station_name</th>\n",
       "      <th>start_station_id</th>\n",
       "      <th>end_station_name</th>\n",
       "      <th>end_station_id</th>\n",
       "      <th>start_lat</th>\n",
       "      <th>start_lng</th>\n",
       "      <th>end_lat</th>\n",
       "      <th>end_lng</th>\n",
       "      <th>member_casual</th>\n",
       "      <th>Dist</th>\n",
       "    </tr>\n",
       "  </thead>\n",
       "  <tbody>\n",
       "    <tr>\n",
       "      <th>0</th>\n",
       "      <td>E19E6F1B8D4C42ED</td>\n",
       "      <td>electric_bike</td>\n",
       "      <td>23/01/21</td>\n",
       "      <td>23/01/21</td>\n",
       "      <td>California Ave &amp; Cortez St</td>\n",
       "      <td>17660</td>\n",
       "      <td>NaN</td>\n",
       "      <td>NaN</td>\n",
       "      <td>41.900341</td>\n",
       "      <td>-87.696743</td>\n",
       "      <td>41.89</td>\n",
       "      <td>-87.72</td>\n",
       "      <td>member</td>\n",
       "      <td>1.393873736</td>\n",
       "    </tr>\n",
       "    <tr>\n",
       "      <th>1</th>\n",
       "      <td>DC88F20C2C55F27F</td>\n",
       "      <td>electric_bike</td>\n",
       "      <td>27/01/21</td>\n",
       "      <td>27/01/21</td>\n",
       "      <td>California Ave &amp; Cortez St</td>\n",
       "      <td>17660</td>\n",
       "      <td>NaN</td>\n",
       "      <td>NaN</td>\n",
       "      <td>41.900333</td>\n",
       "      <td>-87.696707</td>\n",
       "      <td>41.90</td>\n",
       "      <td>-87.69</td>\n",
       "      <td>member</td>\n",
       "      <td>0.345836307</td>\n",
       "    </tr>\n",
       "    <tr>\n",
       "      <th>2</th>\n",
       "      <td>EC45C94683FE3F27</td>\n",
       "      <td>electric_bike</td>\n",
       "      <td>21/01/21</td>\n",
       "      <td>21/01/21</td>\n",
       "      <td>California Ave &amp; Cortez St</td>\n",
       "      <td>17660</td>\n",
       "      <td>NaN</td>\n",
       "      <td>NaN</td>\n",
       "      <td>41.900313</td>\n",
       "      <td>-87.696643</td>\n",
       "      <td>41.90</td>\n",
       "      <td>-87.70</td>\n",
       "      <td>member</td>\n",
       "      <td>0.174079064</td>\n",
       "    </tr>\n",
       "    <tr>\n",
       "      <th>3</th>\n",
       "      <td>4FA453A75AE377DB</td>\n",
       "      <td>electric_bike</td>\n",
       "      <td>7/1/2021</td>\n",
       "      <td>7/1/2021</td>\n",
       "      <td>California Ave &amp; Cortez St</td>\n",
       "      <td>17660</td>\n",
       "      <td>NaN</td>\n",
       "      <td>NaN</td>\n",
       "      <td>41.900399</td>\n",
       "      <td>-87.696662</td>\n",
       "      <td>41.92</td>\n",
       "      <td>-87.69</td>\n",
       "      <td>member</td>\n",
       "      <td>1.397582418</td>\n",
       "    </tr>\n",
       "    <tr>\n",
       "      <th>4</th>\n",
       "      <td>BE5E8EB4E7263A0B</td>\n",
       "      <td>electric_bike</td>\n",
       "      <td>23/01/21</td>\n",
       "      <td>23/01/21</td>\n",
       "      <td>California Ave &amp; Cortez St</td>\n",
       "      <td>17660</td>\n",
       "      <td>NaN</td>\n",
       "      <td>NaN</td>\n",
       "      <td>41.900326</td>\n",
       "      <td>-87.696697</td>\n",
       "      <td>41.90</td>\n",
       "      <td>-87.70</td>\n",
       "      <td>casual</td>\n",
       "      <td>0.171418804</td>\n",
       "    </tr>\n",
       "  </tbody>\n",
       "</table>\n",
       "</div>"
      ],
      "text/plain": [
       "            ride_id  rideable_type      Date ended_at_date  \\\n",
       "0  E19E6F1B8D4C42ED  electric_bike  23/01/21      23/01/21   \n",
       "1  DC88F20C2C55F27F  electric_bike  27/01/21      27/01/21   \n",
       "2  EC45C94683FE3F27  electric_bike  21/01/21      21/01/21   \n",
       "3  4FA453A75AE377DB  electric_bike  7/1/2021      7/1/2021   \n",
       "4  BE5E8EB4E7263A0B  electric_bike  23/01/21      23/01/21   \n",
       "\n",
       "           start_station_name start_station_id end_station_name  \\\n",
       "0  California Ave & Cortez St            17660              NaN   \n",
       "1  California Ave & Cortez St            17660              NaN   \n",
       "2  California Ave & Cortez St            17660              NaN   \n",
       "3  California Ave & Cortez St            17660              NaN   \n",
       "4  California Ave & Cortez St            17660              NaN   \n",
       "\n",
       "  end_station_id  start_lat  start_lng  end_lat  end_lng member_casual  \\\n",
       "0            NaN  41.900341 -87.696743    41.89   -87.72        member   \n",
       "1            NaN  41.900333 -87.696707    41.90   -87.69        member   \n",
       "2            NaN  41.900313 -87.696643    41.90   -87.70        member   \n",
       "3            NaN  41.900399 -87.696662    41.92   -87.69        member   \n",
       "4            NaN  41.900326 -87.696697    41.90   -87.70        casual   \n",
       "\n",
       "          Dist  \n",
       "0  1.393873736  \n",
       "1  0.345836307  \n",
       "2  0.174079064  \n",
       "3  1.397582418  \n",
       "4  0.171418804  "
      ]
     },
     "execution_count": 13,
     "metadata": {},
     "output_type": "execute_result"
    }
   ],
   "source": [
    "dft.rename(columns = {'started_at_date':'Date'}, inplace = True)\n",
    "dft.rename(columns = {'Distance ':'Dist'}, inplace = True)\n",
    "dft.head()"
   ]
  },
  {
   "cell_type": "code",
   "execution_count": null,
   "id": "ff41c1fe",
   "metadata": {},
   "outputs": [],
   "source": []
  },
  {
   "cell_type": "markdown",
   "id": "470bad4b",
   "metadata": {},
   "source": [
    "# Exploratory Data Analysis"
   ]
  },
  {
   "cell_type": "code",
   "execution_count": 16,
   "id": "31c63d7f",
   "metadata": {},
   "outputs": [],
   "source": [
    "dft['Date'] = pd.to_datetime(dft['Date'])\n",
    "dft['Date']=dft['Date'].dt.strftime('%#m/%#d/%Y')"
   ]
  },
  {
   "cell_type": "code",
   "execution_count": 17,
   "id": "35b902d0",
   "metadata": {
    "scrolled": true
   },
   "outputs": [],
   "source": [
    "#Merging both datasets into final dataset\n",
    "\n",
    "dataset = pd.merge(df, dft, on=\"Date\")"
   ]
  },
  {
   "cell_type": "code",
   "execution_count": 18,
   "id": "849fbe84",
   "metadata": {},
   "outputs": [
    {
     "data": {
      "text/plain": [
       "Date                   object\n",
       "Temperature (° F)       int32\n",
       "Dew Point (° F)         int32\n",
       "Humidity (%)            int32\n",
       "Wind Speed (mph)        int32\n",
       "Pressure (Hg)           int32\n",
       "Precipitation (in)      int32\n",
       "ride_id                object\n",
       "rideable_type          object\n",
       "ended_at_date          object\n",
       "start_station_name     object\n",
       "start_station_id       object\n",
       "end_station_name       object\n",
       "end_station_id         object\n",
       "start_lat             float64\n",
       "start_lng             float64\n",
       "end_lat               float64\n",
       "end_lng               float64\n",
       "member_casual          object\n",
       "Dist                   object\n",
       "dtype: object"
      ]
     },
     "execution_count": 18,
     "metadata": {},
     "output_type": "execute_result"
    }
   ],
   "source": [
    "dataset.dtypes"
   ]
  },
  {
   "cell_type": "code",
   "execution_count": null,
   "id": "c0bcff7f",
   "metadata": {},
   "outputs": [],
   "source": []
  },
  {
   "cell_type": "code",
   "execution_count": 19,
   "id": "o6L6jYHQdyOD",
   "metadata": {
    "id": "o6L6jYHQdyOD"
   },
   "outputs": [],
   "source": [
    "import seaborn as sns\n",
    "\n",
    "import matplotlib.pyplot as plt"
   ]
  },
  {
   "cell_type": "code",
   "execution_count": 20,
   "id": "kmAVH27bdxNw",
   "metadata": {
    "colab": {
     "base_uri": "https://localhost:8080/",
     "height": 410
    },
    "id": "kmAVH27bdxNw",
    "outputId": "fc21b035-ca3a-49ef-974d-659ce4120173"
   },
   "outputs": [
    {
     "data": {
      "image/png": "[encoded data removed]",
      "text/plain": [
       "<Figure size 1152x432 with 2 Axes>"
      ]
     },
     "metadata": {
      "needs_background": "light"
     },
     "output_type": "display_data"
    }
   ],
   "source": [
    "# Trip distribution\n",
    "fig, ax = plt.subplots(nrows=1, ncols=2, figsize=(16, 6))\n",
    "sns.countplot(x='member_casual', data=dataset, ax=ax[0])\n",
    "ax[0].set_title('Trip Count vs. member_casual', fontsize=16)\n",
    "ax[0].set_xlabel('member_casual', fontsize=12)\n",
    "ax[0].set_ylabel('Count', fontsize=12)\n",
    "sns.countplot(x='rideable_type', data=dataset, ax=ax[1])\n",
    "ax[1].set_title('Trip Count vs. rideable_type', fontsize=16)\n",
    "ax[1].set_xlabel('rideable_type', fontsize=12)\n",
    "ax[1].set_ylabel('Count', fontsize=12)\n",
    "plt.show()"
   ]
  },
  {
   "cell_type": "markdown",
   "id": "7b27d235",
   "metadata": {},
   "source": [
    "### We analyze the ride details by visualizing the count of Divvy customers having membership vs casual accounts. We also compare the count of electric, classic and docked rideable types. From the 'Trip count vs member_casual' graph we can see that most customers have a membership. "
   ]
  },
  {
   "cell_type": "markdown",
   "id": "7fe26cc3",
   "metadata": {},
   "source": [
    "### From the 'Trip Count vs rideable_type' graph we can see that most riders ride a classic bike, followed by electric_bike. Docked bike ride type have the least riders."
   ]
  },
  {
   "cell_type": "code",
   "execution_count": 21,
   "id": "-eMIvlD2qRlz",
   "metadata": {
    "colab": {
     "base_uri": "https://localhost:8080/"
    },
    "id": "-eMIvlD2qRlz",
    "outputId": "4a557da8-586f-4924-b7ec-f106e205c8e4"
   },
   "outputs": [
    {
     "name": "stdout",
     "output_type": "stream",
     "text": [
      "0      January\n",
      "1      January\n",
      "2      January\n",
      "3         July\n",
      "4      January\n",
      "5    September\n",
      "6        April\n",
      "7      January\n",
      "8    September\n",
      "9      January\n",
      "Name: Month, dtype: object\n"
     ]
    }
   ],
   "source": [
    "dft['Date'] = pd.to_datetime(dft['Date'])\n",
    "dft['Date']\n",
    "\n",
    "dft['Month'] = dft['Date'].dt.month\n",
    "dft['Month']\n",
    "\n",
    "dft['Month'] = dft['Month'].apply(lambda x : 'January' if x==1\n",
    "                                            else('February' if x==2 \n",
    "                                            else('March' if x==3 \n",
    "                                            else('April' if x==4 \n",
    "                                            else('May' if x==5 \n",
    "                                            else('June' if x==6 \n",
    "                                            else('July' if x==7 \n",
    "                                            else('August' if x==8 \n",
    "                                            else('September' if x==9 \n",
    "                                            else('October' if x==10 \n",
    "                                            else('November' if x==11 \n",
    "                                            else('December' if x==12 else 'no'))))))))))))\n",
    "print(dft['Month'].head(10))"
   ]
  },
  {
   "cell_type": "code",
   "execution_count": 22,
   "id": "Fi-o8aiDqRp5",
   "metadata": {
    "colab": {
     "base_uri": "https://localhost:8080/"
    },
    "id": "Fi-o8aiDqRp5",
    "outputId": "bac26101-eeea-4b01-c183-5503be11a0d2"
   },
   "outputs": [
    {
     "data": {
      "text/plain": [
       "0    Winter\n",
       "1    Winter\n",
       "2    Winter\n",
       "3    Summer\n",
       "4    Winter\n",
       "5      Fall\n",
       "6    Spring\n",
       "7    Winter\n",
       "8      Fall\n",
       "9    Winter\n",
       "Name: Season, dtype: object"
      ]
     },
     "execution_count": 22,
     "metadata": {},
     "output_type": "execute_result"
    }
   ],
   "source": [
    "dft['Season'] = dft['Month'].apply(lambda x : 'Winter' if x == 'December'\n",
    "                                                else('Winter' if x == 'January' \n",
    "                                                else('Winter' if x == 'February' \n",
    "                                                else('Spring' if x == 'March'\n",
    "                                                else('Spring' if x == 'April' \n",
    "                                                else('Spring' if x=='May' \n",
    "                                                else('Summer' if x=='June' \n",
    "                                                else('Summer' if x=='July' \n",
    "                                                else('Summer' if x=='August' \n",
    "                                                else('Fall' if x=='September' \n",
    "                                                else('Fall' if x=='October' \n",
    "                                                else('Fall' if x=='November' else 'no'))))))))))))\n",
    "dft['Season'].head(10)"
   ]
  },
  {
   "cell_type": "code",
   "execution_count": 23,
   "id": "EAbrZqy9qRuV",
   "metadata": {
    "colab": {
     "base_uri": "https://localhost:8080/",
     "height": 345
    },
    "id": "EAbrZqy9qRuV",
    "outputId": "84a6f0c4-88c0-45e2-c54b-c3fab0321db1"
   },
   "outputs": [
    {
     "data": {
      "text/plain": [
       "<AxesSubplot:title={'center':'Rides per Season'}, xlabel='Season', ylabel='Number of rides'>"
      ]
     },
     "execution_count": 23,
     "metadata": {},
     "output_type": "execute_result"
    },
    {
     "data": {
      "image/png": "[encoded data removed]",
      "text/plain": [
       "<Figure size 432x288 with 1 Axes>"
      ]
     },
     "metadata": {
      "needs_background": "light"
     },
     "output_type": "display_data"
    }
   ],
   "source": [
    "c = dft.groupby(\"Season\").size() \n",
    "plt.ylabel(\"Number of rides\")\n",
    "plt.xlabel(\"Seasons\")\n",
    "plt.title(\"Rides per Season\")\n",
    "c.plot.bar()\n"
   ]
  },
  {
   "cell_type": "markdown",
   "id": "fa3d417a",
   "metadata": {},
   "source": [
    "### Here we visualize the seasons with the most number of rides.  From the bar plot we can see that most rides occur in summer. The main reason behind this can be the most convenient temperature of the season to ride by users."
   ]
  },
  {
   "cell_type": "code",
   "execution_count": 24,
   "id": "F90oKHGWqR3d",
   "metadata": {
    "colab": {
     "base_uri": "https://localhost:8080/",
     "height": 340
    },
    "id": "F90oKHGWqR3d",
    "outputId": "5e31db28-1827-4019-c666-dfbf33374d72"
   },
   "outputs": [
    {
     "data": {
      "image/png": "[encoded data removed]",
      "text/plain": [
       "<Figure size 432x288 with 1 Axes>"
      ]
     },
     "metadata": {
      "needs_background": "light"
     },
     "output_type": "display_data"
    }
   ],
   "source": [
    "d = dft.groupby(\"Month\").size().sort_values(ascending = True) \n",
    "plt.ylabel(\"Number of rides\")\n",
    "plt.xlabel(\"Months\")\n",
    "plt.title(\"Rides per Month\")\n",
    "d.plot.bar()\n",
    "d1= plt.xticks(ticks = list(range(12)), labels = ['January', 'February', \\\n",
    "                                                  'March', 'April', 'May', 'June', \\\n",
    "                                                  'July','August','September','October','November','December'])"
   ]
  },
  {
   "cell_type": "markdown",
   "id": "ae39dc81",
   "metadata": {},
   "source": [
    "### From the above bar plot we can see that, though the most number of rides occur in the summer term, the month with most rides is december. For the bar plot ‘Rides per season’ we have summer with highest rides as it is the aggregate of rides occurring in June, July and August."
   ]
  },
  {
   "cell_type": "code",
   "execution_count": 25,
   "id": "27768b74",
   "metadata": {
    "id": "27768b74"
   },
   "outputs": [
    {
     "data": {
      "text/plain": [
       "Text(0, 0.5, 'Count')"
      ]
     },
     "execution_count": 25,
     "metadata": {},
     "output_type": "execute_result"
    },
    {
     "data": {
      "image/png": "[encoded data removed]",
      "text/plain": [
       "<Figure size 1152x432 with 2 Axes>"
      ]
     },
     "metadata": {
      "needs_background": "light"
     },
     "output_type": "display_data"
    }
   ],
   "source": [
    "# Trip distribution\n",
    "fig, ax = plt.subplots(nrows=1, ncols=2, figsize=(16, 6))\n",
    "sns.countplot(x='Date', data=dataset, ax=ax[0])\n",
    "ax[0].set_title('Trip Count vs. Date', fontsize=16)\n",
    "ax[0].set_xlabel('Date', fontsize=12)\n",
    "ax[0].set_ylabel('Count', fontsize=12)"
   ]
  },
  {
   "cell_type": "markdown",
   "id": "4c01e716",
   "metadata": {},
   "source": [
    "### Here we visualize the yearly trend of all the rides. We can see that there is a bell curve formed with most rides in summer."
   ]
  },
  {
   "cell_type": "code",
   "execution_count": 52,
   "id": "IyQ03LNrZjhx",
   "metadata": {
    "colab": {
     "base_uri": "https://localhost:8080/",
     "height": 748
    },
    "id": "IyQ03LNrZjhx",
    "outputId": "028b8a7e-517d-4afb-ce2e-9ecdd4113010"
   },
   "outputs": [
    {
     "name": "stderr",
     "output_type": "stream",
     "text": [
      "/usr/local/lib/python3.7/dist-packages/seaborn/_decorators.py:43: FutureWarning: Pass the following variables as keyword args: x, y. From version 0.12, the only valid positional argument will be `data`, and passing other arguments without an explicit keyword will result in an error or misinterpretation.\n",
      "  FutureWarning\n"
     ]
    },
    {
     "data": {
      "image/png": "[encoded data removed]",
      "text/plain": [
       "<Figure size 576x720 with 3 Axes>"
      ]
     },
     "metadata": {
      "needs_background": "light"
     },
     "output_type": "display_data"
    }
   ],
   "source": [
    "# trip start longitude and latitude distribution\n",
    "g = sns.jointplot('start_lng', 'start_lat', data=dataset, kind='hex')\n",
    "g.set_axis_labels('Trip Start Longitude', 'Trip Start Latitude')\n",
    "g.fig.set_figwidth(8)\n",
    "g.fig.set_figheight(10)\n",
    "plt.show()"
   ]
  },
  {
   "cell_type": "markdown",
   "id": "5b224b35",
   "metadata": {},
   "source": [
    "### We do a jointplot to analyze the location where the most number of rides start.\n"
   ]
  },
  {
   "cell_type": "code",
   "execution_count": 26,
   "id": "tfTbcMWgZjnz",
   "metadata": {
    "colab": {
     "base_uri": "https://localhost:8080/",
     "height": 748
    },
    "id": "tfTbcMWgZjnz",
    "outputId": "02acf180-6239-44ba-e520-7b67b5909a57"
   },
   "outputs": [
    {
     "name": "stderr",
     "output_type": "stream",
     "text": [
      "C:\\Users\\hpuras2\\Anaconda3\\lib\\site-packages\\seaborn\\_decorators.py:36: FutureWarning: Pass the following variables as keyword args: x, y. From version 0.12, the only valid positional argument will be `data`, and passing other arguments without an explicit keyword will result in an error or misinterpretation.\n",
      "  warnings.warn(\n"
     ]
    },
    {
     "data": {
      "image/png": "[encoded data removed]",
      "text/plain": [
       "<Figure size 576x720 with 3 Axes>"
      ]
     },
     "metadata": {
      "needs_background": "light"
     },
     "output_type": "display_data"
    }
   ],
   "source": [
    "# trip end longitude and latitude distribution\n",
    "g = sns.jointplot('end_lng', 'end_lat', data=dataset, kind='hex')\n",
    "g.set_axis_labels('Trip End Longitude', 'Trip End Latitude')\n",
    "g.fig.set_figwidth(8)\n",
    "g.fig.set_figheight(10)\n",
    "plt.show()"
   ]
  },
  {
   "cell_type": "markdown",
   "id": "07a888f8",
   "metadata": {},
   "source": [
    "### We do a jointplot to analyze the location where the most number of rides end.\n"
   ]
  },
  {
   "cell_type": "code",
   "execution_count": 27,
   "id": "ZsVFeX1MaC_V",
   "metadata": {
    "colab": {
     "base_uri": "https://localhost:8080/",
     "height": 627
    },
    "id": "ZsVFeX1MaC_V",
    "outputId": "05c62747-da44-4113-96d7-2c773efe8832"
   },
   "outputs": [
    {
     "data": {
      "image/png": "[encoded data removed]",
      "text/plain": [
       "<Figure size 1008x720 with 2 Axes>"
      ]
     },
     "metadata": {
      "needs_background": "light"
     },
     "output_type": "display_data"
    }
   ],
   "source": [
    "# group station according GPS locations\n",
    "station_start = dataset[['start_lng', 'start_lat', 'Dist']]\n",
    "station_start = station_start.groupby(['start_lng', 'start_lat'])\n",
    "station_start = station_start.count().reset_index()\n",
    "\n",
    "station_end = dataset[['end_lng', 'end_lat', 'Dist']]\n",
    "station_end = station_end.groupby(['end_lng', 'end_lat'])\n",
    "station_end = station_end.count().reset_index()\n",
    "\n",
    "# visualization\n",
    "fig, ax = plt.subplots(nrows=1, ncols=2, figsize=(14, 10))\n",
    "x = station_start['start_lng']\n",
    "y = station_start['start_lat']\n",
    "s = station_start['Dist'] / 200\n",
    "ax[0].scatter(x, y, s=s, alpha=0.1)\n",
    "ax[0].set_title('Scatter Plot of Trip Start Stations', fontsize=16)\n",
    "ax[0].set_xlabel('Longitude', fontsize=12)\n",
    "ax[0].set_ylabel('Latitude', fontsize=12)\n",
    "\n",
    "x = station_end['end_lng']\n",
    "y = station_end['end_lat']\n",
    "s = station_end['Dist'] / 200\n",
    "ax[1].scatter(x, y, s=s, alpha=0.1)\n",
    "ax[1].set_title('Scatter Plot of Trip End Stations', fontsize=16)\n",
    "ax[1].set_xlabel('Longitude', fontsize=12)\n",
    "\n",
    "plt.show()"
   ]
  },
  {
   "cell_type": "markdown",
   "id": "df3f4ccd",
   "metadata": {},
   "source": [
    "### We perform a scatter plot of the start and end stations of the trip to visualize the most active station locations."
   ]
  },
  {
   "cell_type": "code",
   "execution_count": 30,
   "id": "596f988f",
   "metadata": {},
   "outputs": [
    {
     "data": {
      "text/plain": [
       "Date                   object\n",
       "Temperature (° F)       int32\n",
       "Dew Point (° F)         int32\n",
       "Humidity (%)            int32\n",
       "Wind Speed (mph)        int32\n",
       "Pressure (Hg)           int32\n",
       "Precipitation (in)      int32\n",
       "ride_id                object\n",
       "rideable_type          object\n",
       "ended_at_date          object\n",
       "start_station_name     object\n",
       "start_station_id       object\n",
       "end_station_name       object\n",
       "end_station_id         object\n",
       "start_lat             float64\n",
       "start_lng             float64\n",
       "end_lat               float64\n",
       "end_lng               float64\n",
       "member_casual          object\n",
       "Dist                  float64\n",
       "dtype: object"
      ]
     },
     "execution_count": 30,
     "metadata": {},
     "output_type": "execute_result"
    }
   ],
   "source": [
    "dataset[\"Dist\"] = pd.to_numeric(dataset[\"Dist\"], errors='coerce').fillna(0, downcast='infer')\n",
    "dataset.dtypes"
   ]
  },
  {
   "cell_type": "code",
   "execution_count": 31,
   "id": "7e39e69d",
   "metadata": {
    "scrolled": true
   },
   "outputs": [
    {
     "data": {
      "text/html": [
       "<div>\n",
       "<style scoped>\n",
       "    .dataframe tbody tr th:only-of-type {\n",
       "        vertical-align: middle;\n",
       "    }\n",
       "\n",
       "    .dataframe tbody tr th {\n",
       "        vertical-align: top;\n",
       "    }\n",
       "\n",
       "    .dataframe thead th {\n",
       "        text-align: right;\n",
       "    }\n",
       "</style>\n",
       "<table border=\"1\" class=\"dataframe\">\n",
       "  <thead>\n",
       "    <tr style=\"text-align: right;\">\n",
       "      <th></th>\n",
       "      <th>Date</th>\n",
       "      <th>Temperature (° F)</th>\n",
       "      <th>Dew Point (° F)</th>\n",
       "      <th>Humidity (%)</th>\n",
       "      <th>Wind Speed (mph)</th>\n",
       "      <th>Pressure (Hg)</th>\n",
       "      <th>Precipitation (in)</th>\n",
       "      <th>ride_id</th>\n",
       "      <th>rideable_type</th>\n",
       "      <th>ended_at_date</th>\n",
       "      <th>start_station_name</th>\n",
       "      <th>start_station_id</th>\n",
       "      <th>end_station_name</th>\n",
       "      <th>end_station_id</th>\n",
       "      <th>start_lat</th>\n",
       "      <th>start_lng</th>\n",
       "      <th>end_lat</th>\n",
       "      <th>end_lng</th>\n",
       "      <th>member_casual</th>\n",
       "      <th>Dist</th>\n",
       "    </tr>\n",
       "  </thead>\n",
       "  <tbody>\n",
       "    <tr>\n",
       "      <th>0</th>\n",
       "      <td>1/1/2021</td>\n",
       "      <td>31</td>\n",
       "      <td>27</td>\n",
       "      <td>83</td>\n",
       "      <td>13</td>\n",
       "      <td>29</td>\n",
       "      <td>0</td>\n",
       "      <td>B10BAB2E3B46716A</td>\n",
       "      <td>electric_bike</td>\n",
       "      <td>1/1/2021</td>\n",
       "      <td>2112 W Peterson Ave</td>\n",
       "      <td>KA1504000155</td>\n",
       "      <td>Marine Dr &amp; Ainslie St</td>\n",
       "      <td>KA1504000171</td>\n",
       "      <td>41.991182</td>\n",
       "      <td>-87.683566</td>\n",
       "      <td>41.971659</td>\n",
       "      <td>-87.650130</td>\n",
       "      <td>member</td>\n",
       "      <td>2.184676</td>\n",
       "    </tr>\n",
       "    <tr>\n",
       "      <th>1</th>\n",
       "      <td>1/1/2021</td>\n",
       "      <td>31</td>\n",
       "      <td>27</td>\n",
       "      <td>83</td>\n",
       "      <td>13</td>\n",
       "      <td>29</td>\n",
       "      <td>0</td>\n",
       "      <td>94E2046B2055E078</td>\n",
       "      <td>electric_bike</td>\n",
       "      <td>1/1/2021</td>\n",
       "      <td>Sedgwick St &amp; North Ave</td>\n",
       "      <td>TA1307000038</td>\n",
       "      <td>Mies van der Rohe Way &amp; Chicago Ave</td>\n",
       "      <td>13338</td>\n",
       "      <td>41.911436</td>\n",
       "      <td>-87.638623</td>\n",
       "      <td>41.896914</td>\n",
       "      <td>-87.622159</td>\n",
       "      <td>member</td>\n",
       "      <td>1.313379</td>\n",
       "    </tr>\n",
       "    <tr>\n",
       "      <th>2</th>\n",
       "      <td>1/1/2021</td>\n",
       "      <td>31</td>\n",
       "      <td>27</td>\n",
       "      <td>83</td>\n",
       "      <td>13</td>\n",
       "      <td>29</td>\n",
       "      <td>0</td>\n",
       "      <td>B0F89673DD6E80B3</td>\n",
       "      <td>classic_bike</td>\n",
       "      <td>1/1/2021</td>\n",
       "      <td>Clark St &amp; Wrightwood Ave</td>\n",
       "      <td>TA1305000014</td>\n",
       "      <td>Wilton Ave &amp; Diversey Pkwy</td>\n",
       "      <td>TA1306000014</td>\n",
       "      <td>41.929546</td>\n",
       "      <td>-87.643118</td>\n",
       "      <td>41.932418</td>\n",
       "      <td>-87.652705</td>\n",
       "      <td>member</td>\n",
       "      <td>0.531475</td>\n",
       "    </tr>\n",
       "    <tr>\n",
       "      <th>3</th>\n",
       "      <td>1/1/2021</td>\n",
       "      <td>31</td>\n",
       "      <td>27</td>\n",
       "      <td>83</td>\n",
       "      <td>13</td>\n",
       "      <td>29</td>\n",
       "      <td>0</td>\n",
       "      <td>2AE7AD0E6FE992F9</td>\n",
       "      <td>classic_bike</td>\n",
       "      <td>1/1/2021</td>\n",
       "      <td>Greenview Ave &amp; Fullerton Ave</td>\n",
       "      <td>TA1307000001</td>\n",
       "      <td>Wilton Ave &amp; Diversey Pkwy</td>\n",
       "      <td>TA1306000014</td>\n",
       "      <td>41.925330</td>\n",
       "      <td>-87.665800</td>\n",
       "      <td>41.932418</td>\n",
       "      <td>-87.652705</td>\n",
       "      <td>member</td>\n",
       "      <td>0.832796</td>\n",
       "    </tr>\n",
       "    <tr>\n",
       "      <th>4</th>\n",
       "      <td>1/1/2021</td>\n",
       "      <td>31</td>\n",
       "      <td>27</td>\n",
       "      <td>83</td>\n",
       "      <td>13</td>\n",
       "      <td>29</td>\n",
       "      <td>0</td>\n",
       "      <td>A90D3CB6CAF6CA02</td>\n",
       "      <td>classic_bike</td>\n",
       "      <td>2/1/2021</td>\n",
       "      <td>St. Clair St &amp; Erie St</td>\n",
       "      <td>13016</td>\n",
       "      <td>State St &amp; Pearson St</td>\n",
       "      <td>TA1307000061</td>\n",
       "      <td>41.894345</td>\n",
       "      <td>-87.622798</td>\n",
       "      <td>41.897448</td>\n",
       "      <td>-87.628722</td>\n",
       "      <td>member</td>\n",
       "      <td>0.372688</td>\n",
       "    </tr>\n",
       "  </tbody>\n",
       "</table>\n",
       "</div>"
      ],
      "text/plain": [
       "       Date  Temperature (° F)  Dew Point (° F)  Humidity (%)  \\\n",
       "0  1/1/2021                 31               27            83   \n",
       "1  1/1/2021                 31               27            83   \n",
       "2  1/1/2021                 31               27            83   \n",
       "3  1/1/2021                 31               27            83   \n",
       "4  1/1/2021                 31               27            83   \n",
       "\n",
       "   Wind Speed (mph)  Pressure (Hg)  Precipitation (in)           ride_id  \\\n",
       "0                13             29                   0  B10BAB2E3B46716A   \n",
       "1                13             29                   0  94E2046B2055E078   \n",
       "2                13             29                   0  B0F89673DD6E80B3   \n",
       "3                13             29                   0  2AE7AD0E6FE992F9   \n",
       "4                13             29                   0  A90D3CB6CAF6CA02   \n",
       "\n",
       "   rideable_type ended_at_date             start_station_name  \\\n",
       "0  electric_bike      1/1/2021            2112 W Peterson Ave   \n",
       "1  electric_bike      1/1/2021        Sedgwick St & North Ave   \n",
       "2   classic_bike      1/1/2021      Clark St & Wrightwood Ave   \n",
       "3   classic_bike      1/1/2021  Greenview Ave & Fullerton Ave   \n",
       "4   classic_bike      2/1/2021         St. Clair St & Erie St   \n",
       "\n",
       "  start_station_id                     end_station_name end_station_id  \\\n",
       "0     KA1504000155               Marine Dr & Ainslie St   KA1504000171   \n",
       "1     TA1307000038  Mies van der Rohe Way & Chicago Ave          13338   \n",
       "2     TA1305000014           Wilton Ave & Diversey Pkwy   TA1306000014   \n",
       "3     TA1307000001           Wilton Ave & Diversey Pkwy   TA1306000014   \n",
       "4            13016                State St & Pearson St   TA1307000061   \n",
       "\n",
       "   start_lat  start_lng    end_lat    end_lng member_casual      Dist  \n",
       "0  41.991182 -87.683566  41.971659 -87.650130        member  2.184676  \n",
       "1  41.911436 -87.638623  41.896914 -87.622159        member  1.313379  \n",
       "2  41.929546 -87.643118  41.932418 -87.652705        member  0.531475  \n",
       "3  41.925330 -87.665800  41.932418 -87.652705        member  0.832796  \n",
       "4  41.894345 -87.622798  41.897448 -87.628722        member  0.372688  "
      ]
     },
     "execution_count": 31,
     "metadata": {},
     "output_type": "execute_result"
    }
   ],
   "source": [
    "dataset.head()"
   ]
  },
  {
   "cell_type": "code",
   "execution_count": 39,
   "id": "48f0ad6a",
   "metadata": {},
   "outputs": [],
   "source": [
    "#Dropping variables which are not important for the analysis\n",
    "#dataset.drop(\"Month\", axis=1, inplace=True)\n",
    "#dataset.drop(\"Season\", axis=1, inplace=True)\n",
    "dataset.drop(\"ride_id\", axis=1, inplace=True)\n",
    "dataset.drop(\"rideable_type\", axis=1, inplace=True)\n",
    "dataset.drop(\"ended_at_date\", axis=1, inplace=True)\n",
    "dataset.drop(\"end_station_name\", axis=1, inplace=True)\n",
    "dataset.drop(\"end_station_id\", axis=1, inplace=True)\n",
    "dataset.drop(\"member_casual\", axis=1, inplace=True)\n",
    "dataset.drop(\"start_station_name\", axis=1, inplace=True)\n",
    "dataset.drop(\"start_station_id\", axis=1, inplace=True)"
   ]
  },
  {
   "cell_type": "code",
   "execution_count": 40,
   "id": "30cc4f43",
   "metadata": {},
   "outputs": [
    {
     "data": {
      "text/html": [
       "<div>\n",
       "<style scoped>\n",
       "    .dataframe tbody tr th:only-of-type {\n",
       "        vertical-align: middle;\n",
       "    }\n",
       "\n",
       "    .dataframe tbody tr th {\n",
       "        vertical-align: top;\n",
       "    }\n",
       "\n",
       "    .dataframe thead th {\n",
       "        text-align: right;\n",
       "    }\n",
       "</style>\n",
       "<table border=\"1\" class=\"dataframe\">\n",
       "  <thead>\n",
       "    <tr style=\"text-align: right;\">\n",
       "      <th></th>\n",
       "      <th>Date</th>\n",
       "      <th>Temperature (° F)</th>\n",
       "      <th>Dew Point (° F)</th>\n",
       "      <th>Humidity (%)</th>\n",
       "      <th>Wind Speed (mph)</th>\n",
       "      <th>Pressure (Hg)</th>\n",
       "      <th>Precipitation (in)</th>\n",
       "      <th>start_lat</th>\n",
       "      <th>start_lng</th>\n",
       "      <th>end_lat</th>\n",
       "      <th>end_lng</th>\n",
       "      <th>Dist</th>\n",
       "    </tr>\n",
       "  </thead>\n",
       "  <tbody>\n",
       "    <tr>\n",
       "      <th>0</th>\n",
       "      <td>1/1/2021</td>\n",
       "      <td>31</td>\n",
       "      <td>27</td>\n",
       "      <td>83</td>\n",
       "      <td>13</td>\n",
       "      <td>29</td>\n",
       "      <td>0</td>\n",
       "      <td>41.991182</td>\n",
       "      <td>-87.683566</td>\n",
       "      <td>41.971659</td>\n",
       "      <td>-87.650130</td>\n",
       "      <td>2.184676</td>\n",
       "    </tr>\n",
       "    <tr>\n",
       "      <th>1</th>\n",
       "      <td>1/1/2021</td>\n",
       "      <td>31</td>\n",
       "      <td>27</td>\n",
       "      <td>83</td>\n",
       "      <td>13</td>\n",
       "      <td>29</td>\n",
       "      <td>0</td>\n",
       "      <td>41.911436</td>\n",
       "      <td>-87.638623</td>\n",
       "      <td>41.896914</td>\n",
       "      <td>-87.622159</td>\n",
       "      <td>1.313379</td>\n",
       "    </tr>\n",
       "    <tr>\n",
       "      <th>2</th>\n",
       "      <td>1/1/2021</td>\n",
       "      <td>31</td>\n",
       "      <td>27</td>\n",
       "      <td>83</td>\n",
       "      <td>13</td>\n",
       "      <td>29</td>\n",
       "      <td>0</td>\n",
       "      <td>41.929546</td>\n",
       "      <td>-87.643118</td>\n",
       "      <td>41.932418</td>\n",
       "      <td>-87.652705</td>\n",
       "      <td>0.531475</td>\n",
       "    </tr>\n",
       "    <tr>\n",
       "      <th>3</th>\n",
       "      <td>1/1/2021</td>\n",
       "      <td>31</td>\n",
       "      <td>27</td>\n",
       "      <td>83</td>\n",
       "      <td>13</td>\n",
       "      <td>29</td>\n",
       "      <td>0</td>\n",
       "      <td>41.925330</td>\n",
       "      <td>-87.665800</td>\n",
       "      <td>41.932418</td>\n",
       "      <td>-87.652705</td>\n",
       "      <td>0.832796</td>\n",
       "    </tr>\n",
       "    <tr>\n",
       "      <th>4</th>\n",
       "      <td>1/1/2021</td>\n",
       "      <td>31</td>\n",
       "      <td>27</td>\n",
       "      <td>83</td>\n",
       "      <td>13</td>\n",
       "      <td>29</td>\n",
       "      <td>0</td>\n",
       "      <td>41.894345</td>\n",
       "      <td>-87.622798</td>\n",
       "      <td>41.897448</td>\n",
       "      <td>-87.628722</td>\n",
       "      <td>0.372688</td>\n",
       "    </tr>\n",
       "  </tbody>\n",
       "</table>\n",
       "</div>"
      ],
      "text/plain": [
       "       Date  Temperature (° F)  Dew Point (° F)  Humidity (%)  \\\n",
       "0  1/1/2021                 31               27            83   \n",
       "1  1/1/2021                 31               27            83   \n",
       "2  1/1/2021                 31               27            83   \n",
       "3  1/1/2021                 31               27            83   \n",
       "4  1/1/2021                 31               27            83   \n",
       "\n",
       "   Wind Speed (mph)  Pressure (Hg)  Precipitation (in)  start_lat  start_lng  \\\n",
       "0                13             29                   0  41.991182 -87.683566   \n",
       "1                13             29                   0  41.911436 -87.638623   \n",
       "2                13             29                   0  41.929546 -87.643118   \n",
       "3                13             29                   0  41.925330 -87.665800   \n",
       "4                13             29                   0  41.894345 -87.622798   \n",
       "\n",
       "     end_lat    end_lng      Dist  \n",
       "0  41.971659 -87.650130  2.184676  \n",
       "1  41.896914 -87.622159  1.313379  \n",
       "2  41.932418 -87.652705  0.531475  \n",
       "3  41.932418 -87.652705  0.832796  \n",
       "4  41.897448 -87.628722  0.372688  "
      ]
     },
     "execution_count": 40,
     "metadata": {},
     "output_type": "execute_result"
    }
   ],
   "source": [
    "dataset.head()"
   ]
  },
  {
   "cell_type": "markdown",
   "id": "40107113",
   "metadata": {},
   "source": [
    "\n"
   ]
  },
  {
   "cell_type": "markdown",
   "id": "f9b92ca9",
   "metadata": {},
   "source": [
    "# Model Implementation"
   ]
  },
  {
   "cell_type": "markdown",
   "id": "cc7e9e85",
   "metadata": {},
   "source": [
    "## Implementing XGboost"
   ]
  },
  {
   "cell_type": "markdown",
   "id": "7ff2a481",
   "metadata": {},
   "source": [
    "### We have performed the XGboost which is an effective ensemble learning method to do predictions. We also tried Logistic regression and random forest before, but they gave bad performances. Random forest will be easily overfitting and Logistic Regression has fairly low accuracy. However, XGboost can combine many weak learners together to improve accuracy and add regularization to avoid overfitting. Therefore, XGboost is a good choice for our problem."
   ]
  },
  {
   "cell_type": "code",
   "execution_count": 32,
   "id": "77f1c8b5",
   "metadata": {},
   "outputs": [],
   "source": [
    "from sklearn.model_selection import train_test_split\n",
    "import xgboost as xgb\n",
    "from xgboost import XGBClassifier\n",
    "import matplotlib.pyplot as plt\n",
    "from sklearn.metrics import accuracy_score\n",
    "from sklearn.feature_selection import SelectFromModel\n"
   ]
  },
  {
   "cell_type": "code",
   "execution_count": 41,
   "id": "b291457e",
   "metadata": {},
   "outputs": [],
   "source": [
    "dataset.drop(\"Date\", axis=1, inplace=True)\n",
    "#dataset.drop(\"Month\", axis=1, inplace=True)\n",
    "#dataset.drop(\"Season\", axis=1, inplace=True)\n"
   ]
  },
  {
   "cell_type": "code",
   "execution_count": 42,
   "id": "f640a90b",
   "metadata": {},
   "outputs": [],
   "source": [
    "X, y = dataset.iloc[:,:-1],dataset.iloc[:,-1]"
   ]
  },
  {
   "cell_type": "code",
   "execution_count": 43,
   "id": "e85c7d6d",
   "metadata": {},
   "outputs": [],
   "source": [
    "dataset_dmatrix = xgb.DMatrix(data=X,label=y)"
   ]
  },
  {
   "cell_type": "code",
   "execution_count": 44,
   "id": "902cb687",
   "metadata": {},
   "outputs": [],
   "source": [
    "X_train, X_test, y_train, y_test = train_test_split(X, y, test_size=0.2, random_state=123)"
   ]
  },
  {
   "cell_type": "code",
   "execution_count": 45,
   "id": "c543e9e6",
   "metadata": {},
   "outputs": [],
   "source": [
    "xg_reg = xgb.XGBRegressor(objective ='reg:linear', colsample_bytree = 0.3, learning_rate = 0.1,\n",
    "                max_depth = 5, alpha = 10, n_estimators = 10)"
   ]
  },
  {
   "cell_type": "code",
   "execution_count": 46,
   "id": "1859e8e0",
   "metadata": {},
   "outputs": [
    {
     "name": "stdout",
     "output_type": "stream",
     "text": [
      "[22:52:18] WARNING: C:/Users/Administrator/workspace/xgboost-win64_release_1.6.0/src/objective/regression_obj.cu:203: reg:linear is now deprecated in favor of reg:squarederror.\n"
     ]
    }
   ],
   "source": [
    "# from sklearn.metrics import confusion_matrix\n",
    "\n",
    "xg_reg.fit(X_train,y_train)\n",
    "\n",
    "preds = xg_reg.predict(X_test)\n",
    "# print(confusion_matrix(y_true, y_pred))\n"
   ]
  },
  {
   "cell_type": "code",
   "execution_count": 47,
   "id": "e50a3e87",
   "metadata": {},
   "outputs": [
    {
     "name": "stdout",
     "output_type": "stream",
     "text": [
      "RMSE: 24.654277\n"
     ]
    }
   ],
   "source": [
    "from sklearn.metrics import mean_squared_error\n",
    "\n",
    "rmse = np.sqrt(mean_squared_error(y_test, preds))\n",
    "print(\"RMSE: %f\" % (rmse))"
   ]
  },
  {
   "cell_type": "code",
   "execution_count": 48,
   "id": "dfac0b19",
   "metadata": {},
   "outputs": [],
   "source": [
    "#k-fold Cross Validation using XGBoost"
   ]
  },
  {
   "cell_type": "code",
   "execution_count": 49,
   "id": "2f3a1c5a",
   "metadata": {},
   "outputs": [
    {
     "name": "stdout",
     "output_type": "stream",
     "text": [
      "[22:53:32] WARNING: C:/Users/Administrator/workspace/xgboost-win64_release_1.6.0/src/objective/regression_obj.cu:203: reg:linear is now deprecated in favor of reg:squarederror.\n",
      "[22:53:34] WARNING: C:/Users/Administrator/workspace/xgboost-win64_release_1.6.0/src/objective/regression_obj.cu:203: reg:linear is now deprecated in favor of reg:squarederror.\n",
      "[22:53:36] WARNING: C:/Users/Administrator/workspace/xgboost-win64_release_1.6.0/src/objective/regression_obj.cu:203: reg:linear is now deprecated in favor of reg:squarederror.\n"
     ]
    }
   ],
   "source": [
    "params = {\"objective\":\"reg:linear\",'colsample_bytree': 0.3,'learning_rate': 0.1,\n",
    "                'max_depth': 5, 'alpha': 10}\n",
    "\n",
    "cv_results = xgb.cv(dtrain=dataset_dmatrix, params=params, nfold=3,\n",
    "                    num_boost_round=50,early_stopping_rounds=10,metrics=\"rmse\", as_pandas=True, seed=4834)"
   ]
  },
  {
   "cell_type": "code",
   "execution_count": 50,
   "id": "ca65874a",
   "metadata": {},
   "outputs": [
    {
     "data": {
      "text/html": [
       "<div>\n",
       "<style scoped>\n",
       "    .dataframe tbody tr th:only-of-type {\n",
       "        vertical-align: middle;\n",
       "    }\n",
       "\n",
       "    .dataframe tbody tr th {\n",
       "        vertical-align: top;\n",
       "    }\n",
       "\n",
       "    .dataframe thead th {\n",
       "        text-align: right;\n",
       "    }\n",
       "</style>\n",
       "<table border=\"1\" class=\"dataframe\">\n",
       "  <thead>\n",
       "    <tr style=\"text-align: right;\">\n",
       "      <th></th>\n",
       "      <th>train-rmse-mean</th>\n",
       "      <th>train-rmse-std</th>\n",
       "      <th>test-rmse-mean</th>\n",
       "      <th>test-rmse-std</th>\n",
       "    </tr>\n",
       "  </thead>\n",
       "  <tbody>\n",
       "    <tr>\n",
       "      <th>0</th>\n",
       "      <td>26.154505</td>\n",
       "      <td>0.624072</td>\n",
       "      <td>26.144856</td>\n",
       "      <td>1.267242</td>\n",
       "    </tr>\n",
       "    <tr>\n",
       "      <th>1</th>\n",
       "      <td>25.877125</td>\n",
       "      <td>0.767998</td>\n",
       "      <td>25.908370</td>\n",
       "      <td>1.221601</td>\n",
       "    </tr>\n",
       "    <tr>\n",
       "      <th>2</th>\n",
       "      <td>25.548843</td>\n",
       "      <td>0.695485</td>\n",
       "      <td>25.587872</td>\n",
       "      <td>1.293409</td>\n",
       "    </tr>\n",
       "    <tr>\n",
       "      <th>3</th>\n",
       "      <td>25.456828</td>\n",
       "      <td>0.751402</td>\n",
       "      <td>25.566488</td>\n",
       "      <td>1.281779</td>\n",
       "    </tr>\n",
       "    <tr>\n",
       "      <th>4</th>\n",
       "      <td>25.358011</td>\n",
       "      <td>0.622501</td>\n",
       "      <td>25.476020</td>\n",
       "      <td>1.398831</td>\n",
       "    </tr>\n",
       "  </tbody>\n",
       "</table>\n",
       "</div>"
      ],
      "text/plain": [
       "   train-rmse-mean  train-rmse-std  test-rmse-mean  test-rmse-std\n",
       "0        26.154505        0.624072       26.144856       1.267242\n",
       "1        25.877125        0.767998       25.908370       1.221601\n",
       "2        25.548843        0.695485       25.587872       1.293409\n",
       "3        25.456828        0.751402       25.566488       1.281779\n",
       "4        25.358011        0.622501       25.476020       1.398831"
      ]
     },
     "execution_count": 50,
     "metadata": {},
     "output_type": "execute_result"
    }
   ],
   "source": [
    "#cv_results contains train and test RMSE metrics for each boosting round.\n",
    "\n",
    "cv_results.head()"
   ]
  },
  {
   "cell_type": "code",
   "execution_count": 51,
   "id": "7d87d37d",
   "metadata": {},
   "outputs": [
    {
     "name": "stdout",
     "output_type": "stream",
     "text": [
      "49    20.986808\n",
      "Name: test-rmse-mean, dtype: float64\n"
     ]
    }
   ],
   "source": [
    "print((cv_results[\"test-rmse-mean\"]).tail(1))\n",
    "\n",
    "# We have reach an even lower RMSE for a different set of hyper-parameters."
   ]
  },
  {
   "cell_type": "code",
   "execution_count": 52,
   "id": "9c156e39",
   "metadata": {},
   "outputs": [
    {
     "name": "stdout",
     "output_type": "stream",
     "text": [
      "[22:59:14] WARNING: C:/Users/Administrator/workspace/xgboost-win64_release_1.6.0/src/objective/regression_obj.cu:203: reg:linear is now deprecated in favor of reg:squarederror.\n"
     ]
    }
   ],
   "source": [
    "xg_reg = xgb.train(params=params, dtrain=dataset_dmatrix, num_boost_round=10)\n"
   ]
  },
  {
   "cell_type": "code",
   "execution_count": 53,
   "id": "d6f781fc",
   "metadata": {},
   "outputs": [
    {
     "data": {
      "image/png": "[encoded data removed]",
      "text/plain": [
       "<Figure size 432x288 with 1 Axes>"
      ]
     },
     "metadata": {
      "needs_background": "light"
     },
     "output_type": "display_data"
    }
   ],
   "source": [
    "xgb.plot_importance(xg_reg)\n",
    "plt.rcParams['figure.figsize'] = [5, 5]\n",
    "plt.show()"
   ]
  },
  {
   "cell_type": "markdown",
   "id": "1c32fb92",
   "metadata": {},
   "source": [
    "### We can conclude that temperature variable has greatest impact on trips."
   ]
  }
 ],
 "metadata": {
  "kernelspec": {
   "display_name": "Python 3 (ipykernel)",
   "language": "python",
   "name": "python3"
  },
  "language_info": {
   "codemirror_mode": {
    "name": "ipython",
    "version": 3
   },
   "file_extension": ".py",
   "mimetype": "text/x-python",
   "name": "python",
   "nbconvert_exporter": "python",
   "pygments_lexer": "ipython3",
   "version": "3.9.7"
  }
 },
 "nbformat": 4,
 "nbformat_minor": 5
}
